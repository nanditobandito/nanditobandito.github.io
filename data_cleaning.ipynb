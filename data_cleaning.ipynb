{
 "cells": [
  {
   "cell_type": "markdown",
   "metadata": {},
   "source": [
    "# Data Cleaning"
   ]
  },
  {
   "cell_type": "markdown",
   "metadata": {},
   "source": [
    "## Import necessary packages"
   ]
  },
  {
   "cell_type": "code",
   "execution_count": 1,
   "metadata": {},
   "outputs": [],
   "source": [
    "import pandas as pd\n",
    "import numpy as np\n",
    "import os"
   ]
  },
  {
   "cell_type": "markdown",
   "metadata": {},
   "source": [
    "## Series of functions that will clean the data"
   ]
  },
  {
   "cell_type": "markdown",
   "metadata": {},
   "source": [
    "Takes the data from the two semesters and combines them according to major.\n",
    "<br>\n",
    "Remove duplicate rows.\n",
    "<br>\n",
    "Outputs dataframe for that major"
   ]
  },
  {
   "cell_type": "code",
   "execution_count": 2,
   "metadata": {},
   "outputs": [],
   "source": [
    "# Make a function to take in data from both semesters for a major and compiling into one data frame\n",
    "# inputs are the file paths for each excel sheet in each directory\n",
    "def degree(semester1,semester2):\n",
    "    # semester 1 data\n",
    "    df1 = pd.read_excel(semester1)\n",
    "    #print(\"Length of df1: \",len(df1))\n",
    "    \n",
    "    # semester 2 data\n",
    "    df2 = pd.read_excel(semester2)\n",
    "    #print(\"Length of df2: \",len(df2))\n",
    "    \n",
    "    # put both frames in a list and concat them by columns\n",
    "    frames = [df1,df2]\n",
    "    df_ret = pd.concat(frames)\n",
    "    #print(\"Length of combined: \",len(df_ret))\n",
    "    \n",
    "    # Drop duplicate rows\n",
    "    df_unique = df_ret.drop_duplicates().copy()\n",
    "    #print(\"Length of unique: \",len(df_unique)) \n",
    "    \n",
    "    # Get the unique number of periods into list\n",
    "    df_usort = df_unique.sort_values(by=\"Periodo\",ascending=True)\n",
    "    periods = df_usort.Periodo.unique()\n",
    "    #print(\"Unique Periods: \", periods)\n",
    "    # create an empty list to store dataframes for each unique period\n",
    "    df_periods = []\n",
    "    \n",
    "    # Run a for loop to get all the students for each period\n",
    "    for p in periods:\n",
    "        #print(\"Period: \",p) \n",
    "        ret_period  = df_usort[df_usort[\"Periodo\"] == p]\n",
    "        #print(\"Total number of observations: \",len(ret_period))\n",
    "        # append dataframe to df_period list\n",
    "        df_periods.append(ret_period)\n",
    "        \n",
    "    # return the concatenaned dataframe and list of dataframes for all periods\n",
    "    return df_unique"
   ]
  },
  {
   "cell_type": "markdown",
   "metadata": {},
   "source": [
    "Translate the intro math classes from Spanish to English"
   ]
  },
  {
   "cell_type": "code",
   "execution_count": 3,
   "metadata": {},
   "outputs": [],
   "source": [
    "# Translate Classes\n",
    "def transClass(df):\n",
    "    if df[\"Course\"] == \"CALCULO DIFERENCIAL\":\n",
    "        return \"DifCal\"\n",
    "    elif df[\"Course\"] == \"CALCULO INTEGRAL\":\n",
    "        return \"IntCal\"\n",
    "    elif df[\"Course\"] == \"CALCULO VECTORIAL\":\n",
    "        return \"VecCal\"\n",
    "    else:\n",
    "        return \"DifEqs\""
   ]
  },
  {
   "cell_type": "markdown",
   "metadata": {},
   "source": [
    "Translate and reclass from text to numeric how many times the student had repeated that course"
   ]
  },
  {
   "cell_type": "code",
   "execution_count": 4,
   "metadata": {},
   "outputs": [],
   "source": [
    "# Translate Repetition/ set numeric\n",
    "def transRep(df):\n",
    "    if df[\"Repetition\"] == \"Si\":\n",
    "        return 1\n",
    "    elif df[\"Repetition\"] == \"C.Esp\":\n",
    "        return 2\n",
    "    else:\n",
    "        return 0"
   ]
  },
  {
   "cell_type": "markdown",
   "metadata": {},
   "source": [
    "Translate the method which the student recived credit.\n",
    "<br>\n",
    "Complemantary: Student recived credit by a final examaniation because they failed at least one course exam.\n",
    "<br>\n",
    "Ordinary: Student recived credit by passing all course exams given throughout the semester.\n",
    "<br>\n",
    "Sepecial Course: The student is taking the class for the third time without the option of recieving complementary credit."
   ]
  },
  {
   "cell_type": "code",
   "execution_count": 5,
   "metadata": {},
   "outputs": [],
   "source": [
    "# Translate Method\n",
    "def transMeth(df):\n",
    "    if df[\"Method\"] == \"Complementaria\":\n",
    "        return \"Complementary\"\n",
    "    elif df[\"Method\"] == \"Curso Especial\":\n",
    "        return \"Special Course\"\n",
    "    else:\n",
    "        return \"Ordinary\""
   ]
  },
  {
   "cell_type": "markdown",
   "metadata": {},
   "source": [
    "Add Pass and Fail columns to dataframe to keep track if they passed or failed the course"
   ]
  },
  {
   "cell_type": "code",
   "execution_count": 6,
   "metadata": {},
   "outputs": [],
   "source": [
    "def rates(df):\n",
    "    df1 = df.copy()\n",
    "    # Add a count column to get groupby summations\n",
    "    df1[\"Count\"] = 1\n",
    "    # add pass and fail columns\n",
    "    df1[\"Pass\"] = df1.Grade > 0\n",
    "    df1[\"Pass\"] = df1[\"Pass\"].astype(int)\n",
    "    df1[\"Fail\"] = df1.Grade == 0\n",
    "    df1[\"Fail\"] = df1[\"Fail\"].astype(int)\n",
    "    \n",
    "    df2 = df1.copy()\n",
    "    \n",
    "    return df2"
   ]
  },
  {
   "cell_type": "markdown",
   "metadata": {},
   "source": [
    "Set the order which students will take their class within each major"
   ]
  },
  {
   "cell_type": "code",
   "execution_count": 7,
   "metadata": {},
   "outputs": [],
   "source": [
    "# Set the order of Classes by Major\n",
    "# Each major takes classes in differnt order\n",
    "def set_order(df):\n",
    "    # ElecMech\n",
    "    if df[\"Major\"] == 33:\n",
    "        if df[\"CrsEn\"] == \"DifCal\":\n",
    "            return 1\n",
    "        if df[\"CrsEn\"] == \"IntCal\":\n",
    "            return 2\n",
    "        if df[\"CrsEn\"] == \"VecCal\":\n",
    "            return 3\n",
    "        else:\n",
    "            return 4\n",
    "    # Mech\n",
    "    if df[\"Major\"] == 23:\n",
    "        if df[\"CrsEn\"] == \"DifCal\":\n",
    "            return 1\n",
    "        if df[\"CrsEn\"] == \"IntCal\":\n",
    "            return 2\n",
    "        if df[\"CrsEn\"] == \"VecCal\":\n",
    "            return 3\n",
    "        else:\n",
    "            return 4\n",
    "    \n",
    "    # Material\n",
    "    if df[\"Major\"] == 26:\n",
    "        if df[\"CrsEn\"] == \"DifCal\":\n",
    "            return 1\n",
    "        if df[\"CrsEn\"] == \"IntCal\":\n",
    "            return 2\n",
    "        if df[\"CrsEn\"] == \"VecCal\":\n",
    "            return 3\n",
    "        else:\n",
    "            return 4\n",
    "        \n",
    "    # Chemical\n",
    "    if df[\"Major\"] == 19:\n",
    "        if df[\"CrsEn\"] == \"DifCal\":\n",
    "            return 1\n",
    "        if df[\"CrsEn\"] == \"IntCal\":\n",
    "            return 2\n",
    "        if df[\"CrsEn\"] == \"VecCal\":\n",
    "            return 3\n",
    "        else:\n",
    "            return 4\n",
    "        \n",
    "    # Industrial\n",
    "    if df[\"Major\"] == 25:\n",
    "        if df[\"CrsEn\"] == \"DifCal\":\n",
    "            return 1\n",
    "        if df[\"CrsEn\"] == \"IntCal\":\n",
    "            return 2\n",
    "        if df[\"CrsEn\"] == \"VecCal\":\n",
    "            return 3\n",
    "        else:\n",
    "            return 4\n",
    "    # EAD\n",
    "    if df[\"Major\"] == 37:\n",
    "        if df[\"CrsEn\"] == \"DifCal\":\n",
    "            return 1\n",
    "        if df[\"CrsEn\"] == \"IntCal\":\n",
    "            return 2\n",
    "        if df[\"CrsEn\"] == \"VecCal\":\n",
    "            return 3\n",
    "        else:\n",
    "            return 4\n",
    "        \n",
    "    # Electrical\n",
    "    if df[\"Major\"] == 21:\n",
    "        if df[\"CrsEn\"] == \"DifCal\":\n",
    "            return 1\n",
    "        if df[\"CrsEn\"] == \"IntCal\":\n",
    "            return 2\n",
    "        if df[\"CrsEn\"] == \"VecCal\":\n",
    "            return 3\n",
    "        else:\n",
    "            return 4\n",
    "        \n",
    "    # Electronic\n",
    "    if df[\"Major\"] == 22:\n",
    "        if df[\"CrsEn\"] == \"DifCal\":\n",
    "            return 1\n",
    "        if df[\"CrsEn\"] == \"IntCal\":\n",
    "            return 2\n",
    "        if df[\"CrsEn\"] == \"VecCal\":\n",
    "            return 3\n",
    "        else:\n",
    "            return 4"
   ]
  },
  {
   "cell_type": "code",
   "execution_count": 8,
   "metadata": {},
   "outputs": [],
   "source": [
    "# Set Major as text\n",
    "# Each major takes classes in differnt order\n",
    "def Majortxt(df):\n",
    "    # ElecMech\n",
    "    if df[\"Major\"] == 33:\n",
    "        return \"EME\"\n",
    "    \n",
    "    # Mech\n",
    "    if df[\"Major\"] == 23:\n",
    "        return \"MEC\"\n",
    "\n",
    "    # Material\n",
    "    if df[\"Major\"] == 26:\n",
    "        return \"MAT\"\n",
    "    \n",
    "    # Chemical\n",
    "    if df[\"Major\"] == 19:\n",
    "        return \"CHM\"\n",
    "        \n",
    "    # Industrial\n",
    "    if df[\"Major\"] == 25:\n",
    "        return \"IND\"\n",
    "    \n",
    "    # EAD\n",
    "    if df[\"Major\"] == 37:\n",
    "        return \"EAD\"\n",
    "\n",
    "    # Electrical\n",
    "    if df[\"Major\"] == 21:\n",
    "        return \"ELC\"\n",
    "        \n",
    "    # Electronic\n",
    "    if df[\"Major\"] == 22:\n",
    "        return \"ELT\""
   ]
  },
  {
   "cell_type": "code",
   "execution_count": 9,
   "metadata": {},
   "outputs": [],
   "source": [
    "def scaledGrade(df):\n",
    "    if df[\"Grade\"] == 0:\n",
    "        return 69\n",
    "    else:\n",
    "        return df[\"Grade\"]"
   ]
  },
  {
   "cell_type": "markdown",
   "metadata": {},
   "source": [
    "Combine all the functions before into one function.\n",
    "<br>\n",
    "Columns are translated into English"
   ]
  },
  {
   "cell_type": "code",
   "execution_count": 10,
   "metadata": {},
   "outputs": [],
   "source": [
    "def dataClean(df):\n",
    "    df = df.copy()\n",
    "    # Intro Calsses we are interested in\n",
    "    intro_classes = ['CALCULO DIFERENCIAL','CALCULO INTEGRAL',\n",
    "                 'CALCULO VECTORIAL','ECUACIONES DIFERENCIALES']\n",
    "    \n",
    "    # Only keep students in intro classes\n",
    "    df_mi = df[df.Asignatura.isin(intro_classes)].copy()\n",
    "    \n",
    "    # Rename columns into English\n",
    "    df_mi.columns = ['studentID','Degree','Major',\"Period\",'CourseID','Course','Credits','Group',\n",
    "                         'Grade','Repetition','Method',\"Status\",'Instructor','Plan']\n",
    "    \n",
    "    # Convert Period into string and create a Year and Semester Column\n",
    "    df_mi[\"Period\"] = df_mi[\"Period\"].astype(str).copy()\n",
    "    df_mi[\"Semester\"] = pd.to_datetime(df_mi[\"Period\"], format='%Y%m').dt.strftime('%m').copy()\n",
    "    df_mi[\"Year\"] = pd.to_datetime(df_mi[\"Period\"], format='%Y%m').dt.strftime('%Y').copy()\n",
    "    \n",
    "    # Translate Courses, Repetition, and Methods\n",
    "    df_en1 = df_mi.assign(CrsEn=df_mi.apply(transClass, axis=1)).copy()\n",
    "    df_en2 = df_en1.assign(RepEn=df_en1.apply(transRep, axis=1)).copy()\n",
    "    df_en3 = df_en2.assign(MethEn=df_en2.apply(transMeth, axis=1)).copy()\n",
    "    df_en4 = df_en3.assign(MajorT=df_en3.apply(Majortxt, axis=1)).copy()\n",
    "    \n",
    "    # Create Count, Fail, Pass Columns\n",
    "    dfr = rates(df_en4)\n",
    "    \n",
    "    # Set the Order of each class for each major\n",
    "    df_order = dfr.assign(Order=dfr.apply(set_order, axis=1)).copy()\n",
    "    \n",
    "    # Rescale Grades to make 0 69 to remove distorition in metrics\n",
    "    df_sg = df_order.assign(SGrade=df_order.apply(scaledGrade, axis=1)).copy()\n",
    "    \n",
    "    # Rearrange columns and only keep essential columns\n",
    "    dff = df_sg[[\"studentID\",\"Major\",\"MajorT\",\"Year\",\"Semester\",\"CrsEn\",\"Order\",\"Grade\",\"SGrade\",\n",
    "                 \"Pass\",\"Fail\",\"Count\",\"Instructor\",\"RepEn\",\"MethEn\",\"Group\",\"Period\"]]\n",
    "    # return final dataframe\n",
    "    return dff\n",
    "    "
   ]
  },
  {
   "cell_type": "markdown",
   "metadata": {},
   "source": [
    "Gets all the excel sheets where the raw data is stored.\n",
    "<br>\n",
    "Outputs two lists which hold the names for each major within each semester"
   ]
  },
  {
   "cell_type": "code",
   "execution_count": 11,
   "metadata": {},
   "outputs": [],
   "source": [
    "def getfiles(files):    \n",
    "    data1 = []\n",
    "    data2 = []\n",
    "    sem1 = []\n",
    "    sem2 = []\n",
    "    for file in files:\n",
    "        if file.endswith(\"xlsx\"):\n",
    "            data1.append(file)\n",
    "        if file.startswith(\"mech_\"):\n",
    "            data2.append(file)\n",
    "        if file.startswith('electronic_222'):\n",
    "            data2.append(file)\n",
    "    for i in data1:\n",
    "        if i.startswith(\"~\"):\n",
    "            data1.remove(i)\n",
    "        else:\n",
    "            data2.append(i)\n",
    "            \n",
    "    data3 = data2        \n",
    "    for j in data3:\n",
    "        if j.endswith(\"xls.xlsx\"):\n",
    "            sem1.append(j)\n",
    "        else:\n",
    "            sem2.append(j)\n",
    "    \n",
    "    return sem1, sem2"
   ]
  },
  {
   "cell_type": "markdown",
   "metadata": {},
   "source": [
    "Combines all the functions before hand to create a data cleaning pipeline\n",
    "<br>\n",
    "Outputs a list with cleaned dataframes for all majors"
   ]
  },
  {
   "cell_type": "code",
   "execution_count": 12,
   "metadata": {},
   "outputs": [],
   "source": [
    "def allmajors(x,y,root,first,second):\n",
    "    data = []\n",
    "    dataclean = []\n",
    "    for i in range(len(x)):\n",
    "        maj = degree(root + first + x[i], root + second + y[i])\n",
    "        print(x[i],y[i])\n",
    "        data.append(maj)\n",
    "    \n",
    "    for df in data:\n",
    "        dfmaj = dataClean(df)\n",
    "        dfclean = dfmaj.dropna()\n",
    "        \n",
    "        dataclean.append(dfclean)\n",
    "        \n",
    "        \n",
    "    return dataclean"
   ]
  },
  {
   "cell_type": "markdown",
   "metadata": {},
   "source": [
    "Function converts the dataframe for each major into a csv file"
   ]
  },
  {
   "cell_type": "code",
   "execution_count": 13,
   "metadata": {},
   "outputs": [],
   "source": [
    "def csv(allmaj,names):\n",
    "    for i in range(0,8):\n",
    "        dc = allmaj[i]\n",
    "        dc.to_csv(names[i]+\".csv\",index=False)\n",
    "    "
   ]
  },
  {
   "cell_type": "markdown",
   "metadata": {},
   "source": [
    "Implelment the data cleaning pipeline/functions"
   ]
  },
  {
   "cell_type": "code",
   "execution_count": 15,
   "metadata": {},
   "outputs": [],
   "source": [
    "dirr = os.getcwd()\n"
   ]
  },
  {
   "cell_type": "code",
   "execution_count": 16,
   "metadata": {},
   "outputs": [],
   "source": [
    "# set parent and child paths to raw data\n",
    "root = dirr\n",
    "first = '/Data End First Semester 2019/'\n",
    "second = '/Data End Second Semester 2019/'"
   ]
  },
  {
   "cell_type": "code",
   "execution_count": 17,
   "metadata": {},
   "outputs": [],
   "source": [
    "# Change froom root directory to first semester data\n",
    "os.chdir(root + first)\n",
    "# sem1 will store a lsit of the file names in first semester directory\n",
    "sem1 = os.listdir()"
   ]
  },
  {
   "cell_type": "code",
   "execution_count": 18,
   "metadata": {},
   "outputs": [],
   "source": [
    "# change into second semester directory\n",
    "os.chdir(root + second)\n",
    "# sem2 will store a lsit of the file names in second semester directory\n",
    "sem2 = os.listdir()"
   ]
  },
  {
   "cell_type": "code",
   "execution_count": 19,
   "metadata": {},
   "outputs": [],
   "source": [
    "# combine the two lists to remove unnecessary files\n",
    "datafiles = sem1 + sem2"
   ]
  },
  {
   "cell_type": "code",
   "execution_count": 20,
   "metadata": {},
   "outputs": [
    {
     "data": {
      "text/plain": [
       "['industrial_125.xls.xlsx',\n",
       " 'material_126.xls.xlsx',\n",
       " '.DS_Store',\n",
       " 'electrical_121.xls.xlsx',\n",
       " '~$detalle_historico_detallado (1).xls.xlsx',\n",
       " 'mech_123.xls.xlsx',\n",
       " 'elecmech_133.xls.xlsx',\n",
       " 'electronic_122.xls.xlsx',\n",
       " 'chemical_119.xls.xlsx',\n",
       " 'ead_137.xls.xlsx',\n",
       " '~$electrical_221.xlsx',\n",
       " '.DS_Store',\n",
       " 'electronic_222.xlsx',\n",
       " 'elecmech_233.xlsx',\n",
       " 'industrial_225.xlsx',\n",
       " 'electrical_221.xlsx',\n",
       " 'chemical_219.xlsx',\n",
       " 'ead_237.xlsx',\n",
       " '.ipynb_checkpoints',\n",
       " '~$detalle_historico_detallado (1).xlsx',\n",
       " 'mech_223.xlsx',\n",
       " 'matrial-226.xlsx']"
      ]
     },
     "execution_count": 20,
     "metadata": {},
     "output_type": "execute_result"
    }
   ],
   "source": [
    "datafiles"
   ]
  },
  {
   "cell_type": "code",
   "execution_count": 21,
   "metadata": {},
   "outputs": [],
   "source": [
    "# Get the necessary files\n",
    "semester1,semester2 = getfiles(datafiles)"
   ]
  },
  {
   "cell_type": "code",
   "execution_count": 22,
   "metadata": {},
   "outputs": [
    {
     "data": {
      "text/plain": [
       "['chemical_119.xls.xlsx',\n",
       " 'ead_137.xls.xlsx',\n",
       " 'elecmech_133.xls.xlsx',\n",
       " 'electrical_121.xls.xlsx',\n",
       " 'electronic_122.xls.xlsx',\n",
       " 'industrial_125.xls.xlsx',\n",
       " 'material_126.xls.xlsx',\n",
       " 'mech_123.xls.xlsx']"
      ]
     },
     "execution_count": 22,
     "metadata": {},
     "output_type": "execute_result"
    }
   ],
   "source": [
    "# sort each semester list.\n",
    "# This step is crucial in the data cleaning pipeline to make sure the excel sheets for each major are joined correctly\n",
    "semester1.sort()\n",
    "semester1"
   ]
  },
  {
   "cell_type": "code",
   "execution_count": 23,
   "metadata": {},
   "outputs": [
    {
     "data": {
      "text/plain": [
       "['chemical_219.xlsx',\n",
       " 'ead_237.xlsx',\n",
       " 'elecmech_233.xlsx',\n",
       " 'electrical_221.xlsx',\n",
       " 'electronic_222.xlsx',\n",
       " 'industrial_225.xlsx',\n",
       " 'matrial-226.xlsx',\n",
       " 'mech_223.xlsx']"
      ]
     },
     "execution_count": 23,
     "metadata": {},
     "output_type": "execute_result"
    }
   ],
   "source": [
    "semester2.sort()\n",
    "semester2"
   ]
  },
  {
   "cell_type": "code",
   "execution_count": 24,
   "metadata": {},
   "outputs": [
    {
     "name": "stdout",
     "output_type": "stream",
     "text": [
      "chemical_119.xls.xlsx chemical_219.xlsx\n",
      "ead_137.xls.xlsx ead_237.xlsx\n",
      "elecmech_133.xls.xlsx elecmech_233.xlsx\n",
      "electrical_121.xls.xlsx electrical_221.xlsx\n",
      "electronic_122.xls.xlsx electronic_222.xlsx\n",
      "industrial_125.xls.xlsx industrial_225.xlsx\n",
      "material_126.xls.xlsx matrial-226.xlsx\n",
      "mech_123.xls.xlsx mech_223.xlsx\n"
     ]
    }
   ],
   "source": [
    "# Implement the function that initiates the data cleaning process\n",
    "# takes the sorted semester lists and the parent and child directories\n",
    "# Will print out the datafiles which are bieng to joined together\n",
    "\n",
    "allmaj = allmajors(semester1,semester2,root,first,second)"
   ]
  },
  {
   "cell_type": "code",
   "execution_count": 25,
   "metadata": {},
   "outputs": [],
   "source": [
    "# Create a new directory to store csv data\n",
    "os.chdir(root + \"/CSVDATA\")"
   ]
  },
  {
   "cell_type": "code",
   "execution_count": 26,
   "metadata": {},
   "outputs": [],
   "source": [
    "# List of names for the new CSV files that contain the name of the major and the major code\n",
    "names = [\"CHEM_19\",\"EAD_37\",\"ELECMECH_33\",\"ELECTRICAL_21\",\"ELECTRONIC_22\",\"IND_25\",\"MAT_26\",\"MECH_23\"]"
   ]
  },
  {
   "cell_type": "code",
   "execution_count": 27,
   "metadata": {},
   "outputs": [],
   "source": [
    "csv(allmaj,names)"
   ]
  },
  {
   "cell_type": "code",
   "execution_count": 28,
   "metadata": {},
   "outputs": [],
   "source": [
    "# concat all dataframes into one single dataframe\n",
    "df = pd.concat(allmaj)"
   ]
  },
  {
   "cell_type": "code",
   "execution_count": 29,
   "metadata": {},
   "outputs": [
    {
     "data": {
      "text/plain": [
       "studentID     0\n",
       "Major         0\n",
       "MajorT        0\n",
       "Year          0\n",
       "Semester      0\n",
       "CrsEn         0\n",
       "Order         0\n",
       "Grade         0\n",
       "SGrade        0\n",
       "Pass          0\n",
       "Fail          0\n",
       "Count         0\n",
       "Instructor    0\n",
       "RepEn         0\n",
       "MethEn        0\n",
       "Group         0\n",
       "Period        0\n",
       "dtype: int64"
      ]
     },
     "execution_count": 29,
     "metadata": {},
     "output_type": "execute_result"
    }
   ],
   "source": [
    "# Make sure there are no null values\n",
    "df.isnull().sum()"
   ]
  },
  {
   "cell_type": "code",
   "execution_count": 30,
   "metadata": {},
   "outputs": [],
   "source": [
    "# Save the complete dataframe to a csv file\n",
    "df.to_csv(\"ITCH_IntroMathAcademicData.csv\",index=False)"
   ]
  },
  {
   "cell_type": "code",
   "execution_count": null,
   "metadata": {},
   "outputs": [],
   "source": []
  }
 ],
 "metadata": {
  "kernelspec": {
   "display_name": "Python 3",
   "language": "python",
   "name": "python3"
  },
  "language_info": {
   "codemirror_mode": {
    "name": "ipython",
    "version": 3
   },
   "file_extension": ".py",
   "mimetype": "text/x-python",
   "name": "python",
   "nbconvert_exporter": "python",
   "pygments_lexer": "ipython3",
   "version": "3.7.4"
  }
 },
 "nbformat": 4,
 "nbformat_minor": 2
}
